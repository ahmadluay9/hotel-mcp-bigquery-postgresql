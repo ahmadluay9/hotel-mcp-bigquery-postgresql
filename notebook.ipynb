{
 "cells": [
  {
   "cell_type": "markdown",
   "id": "5ee9107c",
   "metadata": {},
   "source": [
    "# PostgreSQL"
   ]
  },
  {
   "cell_type": "code",
   "execution_count": 1,
   "id": "5dffc5b2",
   "metadata": {},
   "outputs": [],
   "source": [
    "from langchain_community.utilities import SQLDatabase\n",
    "from sqlalchemy import create_engine, text\n",
    "from tabulate import tabulate\n",
    "import os\n",
    "from dotenv import load_dotenv\n",
    "load_dotenv()  # Load environment variables from .env file\n",
    "\n",
    "# PostgreSQL Database Connection Details\n",
    "POSTGRES_HOST = os.getenv(\"POSTGRES_LOCALHOST\")\n",
    "POSTGRES_PORT = os.getenv(\"POSTGRES_PORT\", \"5432\")  # default Postgres port\n",
    "POSTGRES_DB = os.getenv(\"POSTGRES_DB\")\n",
    "POSTGRES_USER = os.getenv(\"POSTGRES_USER\")\n",
    "POSTGRES_PASSWORD = os.getenv(\"POSTGRES_PASSWORD\")\n",
    "\n",
    "# Construct the database URI (using psycopg2 as driver)\n",
    "DATABASE_URI = f\"postgresql+psycopg2://{POSTGRES_USER}:{POSTGRES_PASSWORD}@{POSTGRES_HOST}:{POSTGRES_PORT}/{POSTGRES_DB}\"\n",
    "\n",
    "# Create the SQLDatabase object\n",
    "db = SQLDatabase.from_uri(DATABASE_URI)"
   ]
  },
  {
   "cell_type": "code",
   "execution_count": 13,
   "id": "c09a1320",
   "metadata": {},
   "outputs": [
    {
     "name": "stdout",
     "output_type": "stream",
     "text": [
      "['bookings', 'guests', 'room_types', 'rooms']\n"
     ]
    }
   ],
   "source": [
    "# List all tables\n",
    "tables = db.get_usable_table_names()\n",
    "print(tables)"
   ]
  },
  {
   "cell_type": "code",
   "execution_count": 14,
   "id": "c3ca4dc7",
   "metadata": {},
   "outputs": [
    {
     "name": "stdout",
     "output_type": "stream",
     "text": [
      "Counting all guests in the database:\n",
      "+---------+\n",
      "|   count |\n",
      "|---------|\n",
      "|       2 |\n",
      "+---------+\n"
     ]
    }
   ],
   "source": [
    "engine = create_engine(DATABASE_URI)\n",
    "\n",
    "# 3. Connect to the database and execute the query.\n",
    "try:\n",
    "    with engine.connect() as conn:\n",
    "        result = conn.execute(text(\"SELECT COUNT(*) FROM guests;\"))\n",
    "        rows = result.fetchall()\n",
    "        headers = result.keys()\n",
    "\n",
    "        # 4. Print the formatted result.\n",
    "        print(\"Counting all guests in the database:\")\n",
    "        print(tabulate(rows, headers=headers, tablefmt=\"psql\"))\n",
    "\n",
    "except Exception as e:\n",
    "    print(f\"An error occurred: {e}\")"
   ]
  },
  {
   "cell_type": "markdown",
   "id": "8453047e",
   "metadata": {},
   "source": [
    "# BigQuery"
   ]
  },
  {
   "cell_type": "code",
   "execution_count": 2,
   "id": "f0d67e42",
   "metadata": {},
   "outputs": [],
   "source": [
    "from google.cloud import bigquery\n",
    "from google.cloud.exceptions import NotFound"
   ]
  },
  {
   "cell_type": "code",
   "execution_count": null,
   "id": "227c842c",
   "metadata": {},
   "outputs": [],
   "source": [
    "def list_bq_tables(project_id, dataset_id):\n",
    "    \"\"\"\n",
    "    Lists all tables in a specified BigQuery dataset.\n",
    "\n",
    "    Args:\n",
    "        project_id (str): Your Google Cloud project ID.\n",
    "        dataset_id (str): Your BigQuery dataset ID.\n",
    "    \"\"\"\n",
    "    try:\n",
    "        # 1. Construct a BigQuery client object.\n",
    "        #    The client library will automatically use your authenticated\n",
    "        #    credentials (from the gcloud CLI).\n",
    "        client = bigquery.Client(project=project_id)\n",
    "\n",
    "        # 2. Get a reference to the dataset.\n",
    "        dataset_ref = client.dataset(dataset_id)\n",
    "\n",
    "        print(f\"Fetching tables for dataset '{dataset_id}' in project '{project_id}'...\")\n",
    "\n",
    "        # 3. Use the client to list the tables in the dataset.\n",
    "        #    This returns an iterator, which we will loop through.\n",
    "        tables = list(client.list_tables(dataset_ref))\n",
    "\n",
    "        # 4. Check if any tables were found and print their names.\n",
    "        if tables:\n",
    "            print(\"Tables found:\")\n",
    "            for table in tables:\n",
    "                # The .table_id attribute gives you the name of the table.\n",
    "                print(f\"- {table.table_id}\")\n",
    "        else:\n",
    "            print(f\"No tables found in dataset '{dataset_id}'.\")\n",
    "\n",
    "    except NotFound:\n",
    "        print(f\"Error: Dataset '{dataset_id}' not found.\")\n",
    "        print(\"Please check your project and dataset IDs.\")\n",
    "    except Exception as e:\n",
    "        print(f\"An unexpected error occurred: {e}\")\n",
    "        print(\"Please ensure you are authenticated correctly (see instructions).\")\n"
   ]
  },
  {
   "cell_type": "code",
   "execution_count": 5,
   "id": "84308c68",
   "metadata": {},
   "outputs": [
    {
     "name": "stdout",
     "output_type": "stream",
     "text": [
      "Fetching tables for dataset 'hotel_analytics_dataset' in project 'eikon-dev-ai-team'...\n",
      "Tables found:\n",
      "- booking_analytics\n",
      "- hotels\n"
     ]
    }
   ],
   "source": [
    "GCP_PROJECT_ID = os.getenv(\"GOOGLE_CLOUD_PROJECT\")\n",
    "BIGQUERY_DATASET_ID = \"hotel_analytics_dataset\"\n",
    "# -------------------\n",
    "\n",
    "list_bq_tables(GCP_PROJECT_ID, BIGQUERY_DATASET_ID)"
   ]
  },
  {
   "cell_type": "code",
   "execution_count": 5,
   "id": "45056a50",
   "metadata": {},
   "outputs": [],
   "source": [
    "import datetime\n",
    "\n",
    "def get_current_date_wib() -> str:\n",
    "    \"\"\"Mendapatkan tanggal saat ini dalam Waktu Indonesia Barat (WIB) dan mengembalikannya sebagai string yang diformat.\"\"\"\n",
    "    # Tentukan zona waktu WIB (UTC+7)\n",
    "    wib_timezone = datetime.timezone(datetime.timedelta(hours=7))\n",
    "    \n",
    "    # Dapatkan waktu saat ini di WIB\n",
    "    now = datetime.datetime.now(wib_timezone)\n",
    "    \n",
    "    # Format tanggal menjadi string (contoh: \"Thursday, September 18, 2025\")\n",
    "    return now.strftime('%Y-%m-%d')"
   ]
  },
  {
   "cell_type": "code",
   "execution_count": 4,
   "id": "764c3f47",
   "metadata": {},
   "outputs": [
    {
     "data": {
      "text/plain": [
       "'2025-09-19'"
      ]
     },
     "execution_count": 4,
     "metadata": {},
     "output_type": "execute_result"
    }
   ],
   "source": [
    "get_current_date_wib()"
   ]
  }
 ],
 "metadata": {
  "kernelspec": {
   "display_name": ".venv",
   "language": "python",
   "name": "python3"
  },
  "language_info": {
   "codemirror_mode": {
    "name": "ipython",
    "version": 3
   },
   "file_extension": ".py",
   "mimetype": "text/x-python",
   "name": "python",
   "nbconvert_exporter": "python",
   "pygments_lexer": "ipython3",
   "version": "3.12.3"
  }
 },
 "nbformat": 4,
 "nbformat_minor": 5
}
